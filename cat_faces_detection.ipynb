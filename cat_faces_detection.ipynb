{
 "cells": [
  {
   "cell_type": "code",
   "execution_count": 6,
   "id": "b5c5664f-1a16-4ffb-a1fc-d8618d6ec212",
   "metadata": {},
   "outputs": [],
   "source": [
    "import cv2\n",
    "import os"
   ]
  },
  {
   "cell_type": "code",
   "execution_count": 80,
   "id": "9ba64105-1023-4e9e-b01a-bd45f73de8c2",
   "metadata": {},
   "outputs": [],
   "source": [
    "path = \"C:/Users/murat/Documents/computer_vision2/images\"\n",
    "files = os.chdir(path=path)\n",
    "files = os.listdir(path=files)\n",
    "\n",
    "img_path_list = []\n",
    "\n",
    "for file in files:\n",
    "    if file.startswith(\"cat_img\"):\n",
    "        img_path_list.append(file)\n",
    "        \n",
    "for element in img_path_list:\n",
    "    image = cv2.imread(filename=element)\n",
    "    \n",
    "    gray = cv2.cvtColor(src=image, code=cv2.COLOR_BGR2GRAY)\n",
    "    \n",
    "    detector = cv2.CascadeClassifier(filename=f\"{cv2.data.haarcascades}haarcascade_frontalcatface.xml\")\n",
    "    rects = detector.detectMultiScale(image=gray, minNeighbors=2, scaleFactor=1.045)\n",
    "    \n",
    "    for (index, (x, y, width, height)) in enumerate(rects):\n",
    "        cv2.rectangle(img=image,\n",
    "                      pt1=(x, y),\n",
    "                      pt2 = (x+width, y+height),\n",
    "                      color=(0, 255, 255),\n",
    "                      thickness=2)\n",
    "        cv2.putText(img=image,\n",
    "                    text=f\"Kedi {index+1}\",\n",
    "                    org=(x, y-10),\n",
    "                    fontFace=cv2.FONT_HERSHEY_SIMPLEX,\n",
    "                    fontScale=1,\n",
    "                    color=(0, 0, 255),\n",
    "                    thickness=4)\n",
    "    \n",
    "    cv2.imshow(winname=\"image\", mat=image)\n",
    "    if cv2.waitKey(0) == ord(\"q\"): continue\n",
    "    \n",
    "cv2.destroyAllWindows()"
   ]
  },
  {
   "cell_type": "code",
   "execution_count": 72,
   "id": "3ebf92cd-f37c-4248-982e-c1fc6f15cee9",
   "metadata": {},
   "outputs": [
    {
     "data": {
      "text/plain": [
       "\u001b[1;31mDocstring:\u001b[0m\n",
       "putText(img, text, org, fontFace, fontScale, color[, thickness[, lineType[, bottomLeftOrigin]]]) -> img\n",
       ".   @brief Draws a text string.\n",
       ".   \n",
       ".   The function cv::putText renders the specified text string in the image. Symbols that cannot be rendered\n",
       ".   using the specified font are replaced by question marks. See #getTextSize for a text rendering code\n",
       ".   example.\n",
       ".   \n",
       ".   @param img Image.\n",
       ".   @param text Text string to be drawn.\n",
       ".   @param org Bottom-left corner of the text string in the image.\n",
       ".   @param fontFace Font type, see #HersheyFonts.\n",
       ".   @param fontScale Font scale factor that is multiplied by the font-specific base size.\n",
       ".   @param color Text color.\n",
       ".   @param thickness Thickness of the lines used to draw a text.\n",
       ".   @param lineType Line type. See #LineTypes\n",
       ".   @param bottomLeftOrigin When true, the image data origin is at the bottom-left corner. Otherwise,\n",
       ".   it is at the top-left corner.\n",
       "\u001b[1;31mType:\u001b[0m      builtin_function_or_method\n"
      ]
     },
     "metadata": {},
     "output_type": "display_data"
    }
   ],
   "source": [
    "?cv2.putText"
   ]
  },
  {
   "cell_type": "code",
   "execution_count": null,
   "id": "f7cf4e7f-aef7-4bcb-be94-bbba5fa45525",
   "metadata": {},
   "outputs": [],
   "source": []
  }
 ],
 "metadata": {
  "kernelspec": {
   "display_name": "Python 3 (ipykernel)",
   "language": "python",
   "name": "python3"
  },
  "language_info": {
   "codemirror_mode": {
    "name": "ipython",
    "version": 3
   },
   "file_extension": ".py",
   "mimetype": "text/x-python",
   "name": "python",
   "nbconvert_exporter": "python",
   "pygments_lexer": "ipython3",
   "version": "3.9.12"
  }
 },
 "nbformat": 4,
 "nbformat_minor": 5
}
